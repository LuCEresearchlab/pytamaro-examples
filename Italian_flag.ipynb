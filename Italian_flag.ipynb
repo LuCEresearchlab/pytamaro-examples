{
 "cells": [
  {
   "cell_type": "markdown",
   "id": "3d14a557",
   "metadata": {},
   "source": [
    "## Building the Italian flag"
   ]
  },
  {
   "cell_type": "markdown",
   "id": "35dba413",
   "metadata": {},
   "source": [
    "The Italian flag is constituted by three vertical stripes: from the left red, white, and green.\n",
    "\n",
    "In PyTamaro, you can refer to up to 16 millions of colors! One way to specify a color is indicating it as a mix of red, green, and blue. The [`rgb_color` function](https://www.chiodini.org/pytamaro/English/colors.html#pytamaro.color.rgb_color) serves this exact purpose. It produces a value of type `Color` which can then be used to create a graphic.\n",
    "\n",
    "Here is, for instance, how one can construct the green stripe of the Italian flag, using the \"right\" official green. Each of the three color component ranges from 0 to 255, and the official green has 0 for the red component, 140 for the green component, and 69 for the blue one:"
   ]
  },
  {
   "cell_type": "code",
   "execution_count": 13,
   "id": "459d671b",
   "metadata": {},
   "outputs": [
    {
     "data": {
      "image/png": "[encoded data removed]",
      "text/plain": [
       "<PIL.PngImagePlugin.PngImageFile image mode=RGBA size=200x300 at 0x7FC006D9D550>"
      ]
     },
     "metadata": {},
     "output_type": "display_data"
    }
   ],
   "source": [
    "from pytamaro import rectangle, rgb_color, show_graphic\n",
    "\n",
    "green_stripe = rectangle(200, 300, rgb_color(0, 140, 69))\n",
    "\n",
    "show_graphic(green_stripe)"
   ]
  },
  {
   "cell_type": "markdown",
   "id": "1cc5ca07",
   "metadata": {},
   "source": [
    "### Solve it yourself\n",
    "\n",
    "The Italian flag has a height-to-width ratio of 2:3. It's composed by three vertical stripes with colors having the following red, green and blue components:\n",
    "- \"green\": 0, 140, and 69 -- the one we just built\n",
    "- \"white\": 244, 245, and 240\n",
    "- \"red\": 205, 33, and 42\n",
    "\n",
    "Practice by creating the three stripes, and then use [`beside`](https://www.chiodini.org/pytamaro/English/operations.html#pytamaro.operations.beside) to place them one next to the other and form the flag."
   ]
  },
  {
   "cell_type": "code",
   "execution_count": 12,
   "id": "87cc3aa2",
   "metadata": {},
   "outputs": [
    {
     "ename": "NameError",
     "evalue": "name 'flag' is not defined",
     "output_type": "error",
     "traceback": [
      "\u001b[0;31m---------------------------------------------------------------------------\u001b[0m",
      "\u001b[0;31mNameError\u001b[0m                                 Traceback (most recent call last)",
      "\u001b[0;32m/tmp/ipykernel_4588/1032691219.py\u001b[0m in \u001b[0;36m<module>\u001b[0;34m\u001b[0m\n\u001b[1;32m      5\u001b[0m \u001b[0;31m# ...\u001b[0m\u001b[0;34m\u001b[0m\u001b[0;34m\u001b[0m\u001b[0;34m\u001b[0m\u001b[0m\n\u001b[1;32m      6\u001b[0m \u001b[0;34m\u001b[0m\u001b[0m\n\u001b[0;32m----> 7\u001b[0;31m \u001b[0mshow_graphic\u001b[0m\u001b[0;34m(\u001b[0m\u001b[0mflag\u001b[0m\u001b[0;34m)\u001b[0m\u001b[0;34m\u001b[0m\u001b[0;34m\u001b[0m\u001b[0m\n\u001b[0m",
      "\u001b[0;31mNameError\u001b[0m: name 'flag' is not defined"
     ]
    }
   ],
   "source": [
    "from pytamaro import beside, rectangle, rgb_color, show_graphic\n",
    "\n",
    "green_stripe = rectangle(200, 300, rgb_color(0, 140, 69))\n",
    "# TODO\n",
    "# ...\n",
    "\n",
    "show_graphic(flag)"
   ]
  },
  {
   "cell_type": "markdown",
   "id": "000db884",
   "metadata": {},
   "source": [
    "### Building other flags"
   ]
  },
  {
   "cell_type": "markdown",
   "id": "34fd20c1",
   "metadata": {},
   "source": [
    "You can experiment and try to build other flags with simple stripes. If you don't have ideas, the German flag might be a good choice."
   ]
  }
 ],
 "metadata": {
  "kernelspec": {
   "display_name": "Python 3 (ipykernel)",
   "language": "python",
   "name": "python3"
  },
  "language_info": {
   "codemirror_mode": {
    "name": "ipython",
    "version": 3
   },
   "file_extension": ".py",
   "mimetype": "text/x-python",
   "name": "python",
   "nbconvert_exporter": "python",
   "pygments_lexer": "ipython3",
   "version": "3.8.10"
  }
 },
 "nbformat": 4,
 "nbformat_minor": 5
}
