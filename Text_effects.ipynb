{
 "cells": [
  {
   "cell_type": "markdown",
   "metadata": {},
   "source": [
    "# Text Effects"
   ]
  },
  {
   "cell_type": "code",
   "execution_count": 135,
   "metadata": {},
   "outputs": [],
   "source": [
    "from pytamaro import (\n",
    "    Graphic, Color, \n",
    "    empty_graphic, rectangle, ellipse, text, \n",
    "    compose, overlay, pin, \n",
    "    transparent, black, red, yellow,\n",
    "    rgb_color, rgba_color, \n",
    "    graphic_width, graphic_height, \n",
    "    show_graphic\n",
    ")"
   ]
  },
  {
   "cell_type": "markdown",
   "metadata": {},
   "source": [
    "## Drop-Shadow Text\n",
    "Develop a function `drop_shadow_text` that produces a text with a drop shadow. \n",
    "\n",
    "![drop shadow text example image](media/drop_shadow_text.png)"
   ]
  },
  {
   "cell_type": "markdown",
   "metadata": {},
   "source": [
    "Implement your function by composing two versions of the text, one representing the drop shadow, offest to the bottom right, and the normal one, aligned to the top left. You may want to use a `transparent` rectangle (and the `graphic_width` and `graphic_height` functions for measuring the dimensions of the text) to make it possible to somehow offset the two texts."
   ]
  },
  {
   "cell_type": "code",
   "execution_count": 136,
   "metadata": {},
   "outputs": [],
   "source": [
    "def drop_shadow_text(content: str, font: str, font_size: int, offset: int, color: Color, shadow_color: Color) -> Graphic:\n",
    "    assert offset >= 0\n",
    "    return empty_graphic() # TODO\n"
   ]
  },
  {
   "cell_type": "markdown",
   "metadata": {},
   "source": [
    "The following code uses your `drop_shadow_text` function to produce the example image above."
   ]
  },
  {
   "cell_type": "code",
   "execution_count": 137,
   "metadata": {},
   "outputs": [
    {
     "data": {
      "image/png": "[encoded data removed]",
      "text/plain": [
       "<PIL.PngImagePlugin.PngImageFile image mode=RGBA size=140x140 at 0x108964340>"
      ]
     },
     "metadata": {},
     "output_type": "display_data"
    }
   ],
   "source": [
    "shadow = rgba_color(0, 0, 0, 64)\n",
    "orange = rgb_color(255, 128, 0)\n",
    "sun = overlay(ellipse(100, 100, orange), ellipse(140, 140, yellow))\n",
    "show_graphic(\n",
    "    overlay(\n",
    "        drop_shadow_text(\"sun\", \"Impact\", 110, 4, red, shadow),\n",
    "        sun\n",
    "    )\n",
    ")"
   ]
  },
  {
   "cell_type": "markdown",
   "metadata": {},
   "source": [
    "## Embossed Text\n",
    "\n",
    "Develop a function `embossed_text` that produces embossed text.\n",
    "\n",
    "![embossed text example image](media/embossed_text.png)"
   ]
  },
  {
   "cell_type": "markdown",
   "metadata": {},
   "source": [
    "Implement your function by composing three versions of the text: a brigher one offset to the top left, a darker one offset to the bottom right, and a normal one in the center. You may want to use a `transparent` rectangle (and the `graphic_width` and `graphic_height` functions for measuring the dimensions of the text) to make it possible to somehow offset texts."
   ]
  },
  {
   "cell_type": "code",
   "execution_count": 138,
   "metadata": {},
   "outputs": [],
   "source": [
    "def embossed_text(content: str, font: str, font_size: int, offset: int, color: Color, brighter_color: Color, darker_color: Color) -> Graphic:\n",
    "    assert offset >= 0\n",
    "    return empty_graphic() # TODO\n"
   ]
  },
  {
   "cell_type": "markdown",
   "metadata": {},
   "source": [
    "The following code uses your `embossed_text` function to produce the example image above."
   ]
  },
  {
   "cell_type": "code",
   "execution_count": 139,
   "metadata": {},
   "outputs": [
    {
     "data": {
      "image/png": "[encoded data removed]",
      "text/plain": [
       "<PIL.PngImagePlugin.PngImageFile image mode=RGBA size=240x120 at 0x108AD48B0>"
      ]
     },
     "metadata": {},
     "output_type": "display_data"
    }
   ],
   "source": [
    "brighter = rgb_color(0, 200, 0)\n",
    "normal = rgb_color(0, 150, 0)\n",
    "darker = rgb_color(0, 100, 0)\n",
    "show_graphic(\n",
    "    overlay(\n",
    "        embossed_text(\"EXIT\", \"Iosevka Curly Heavy\", 100, 1, normal, brighter, darker),\n",
    "        rectangle(240, 120, black)\n",
    "    )\n",
    ")"
   ]
  },
  {
   "cell_type": "markdown",
   "metadata": {},
   "source": [
    "## Gradual Drop Shadow Text\n",
    "Develop a function `gradual_drop_shadow_text` that produces a text with a gradual drop shadow.\n",
    "\n",
    "![gradual drop shadow text example image](media/gradual_drop_shadow.png)\n",
    "\n",
    "Implement your function by composing a normal version of the text in the given color on top of an entire series of versions of the text in black colors with various degrees of opacity. You may want to use a `transparent` rectangle (and the `graphic_width` and `graphic_height` functions for measuring the dimensions of the text) to make it possible to somehow offset two texts."
   ]
  },
  {
   "cell_type": "code",
   "execution_count": 140,
   "metadata": {},
   "outputs": [],
   "source": [
    "def gradual_drop_shadow_text(content: str, font: str, font_size: int, max_offset: int, color: Color) -> Graphic:\n",
    "    assert max_offset >= 0\n",
    "    return empty_graphic() # TODO"
   ]
  },
  {
   "cell_type": "markdown",
   "metadata": {},
   "source": [
    "The following code uses your `gradual_drop_shadow_text` function to produce the example image above."
   ]
  },
  {
   "cell_type": "code",
   "execution_count": 141,
   "metadata": {},
   "outputs": [
    {
     "data": {
      "image/png": "[encoded data removed]",
      "text/plain": [
       "<PIL.PngImagePlugin.PngImageFile image mode=RGBA size=140x140 at 0x108AD6CE0>"
      ]
     },
     "metadata": {},
     "output_type": "display_data"
    }
   ],
   "source": [
    "orange = rgb_color(255, 128, 0)\n",
    "show_graphic(\n",
    "    overlay(\n",
    "        gradual_drop_shadow_text(\"sun\", \"Impact\", 110, 8, red),\n",
    "        overlay(\n",
    "            ellipse(100, 100, orange),\n",
    "            ellipse(140, 140, yellow)\n",
    "        )\n",
    "    )\n",
    ")"
   ]
  }
 ],
 "metadata": {
  "interpreter": {
   "hash": "e1eb2d8177ea5354f61eaa395f633ac45c3b2efc5aba3306bff616a67baac1b2"
  },
  "kernelspec": {
   "display_name": "Python 3.10.0 64-bit ('3.10.0')",
   "language": "python",
   "name": "python3"
  },
  "language_info": {
   "codemirror_mode": {
    "name": "ipython",
    "version": 3
   },
   "file_extension": ".py",
   "mimetype": "text/x-python",
   "name": "python",
   "nbconvert_exporter": "python",
   "pygments_lexer": "ipython3",
   "version": "3.10.0"
  },
  "orig_nbformat": 4
 },
 "nbformat": 4,
 "nbformat_minor": 2
}
