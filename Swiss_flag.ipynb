{
 "cells": [
  {
   "cell_type": "markdown",
   "id": "ad6606e2",
   "metadata": {},
   "source": [
    "## Building the Swiss flag compositionally\n",
    "\n",
    "Here is the Swiss flag:\n",
    "\n",
    "![Swiss flag](media/swiss_flag.png)\n",
    "\n",
    "Which elements do you recognize? It's clearly a white cross on top of a red square!\n",
    "We can try to construct it in Python using [PyTamaro](https://github.com/LuCEResearchLab/pytamaro)!\n",
    "\n"
   ]
  },
  {
   "cell_type": "markdown",
   "id": "d1951550",
   "metadata": {},
   "source": [
    "Let's start by creating the red square that acts as a background field:"
   ]
  },
  {
   "cell_type": "code",
   "execution_count": null,
   "id": "04fba471",
   "metadata": {},
   "outputs": [],
   "source": [
    "from pytamaro import rectangle, red\n",
    "\n",
    "background = rectangle(320, 320, red)"
   ]
  },
  {
   "cell_type": "markdown",
   "id": "8b92cd65",
   "metadata": {},
   "source": [
    "Then, we can create the cross. We start by creating its horizontal arm, and then we rotate it by 90 degrees to obtain the vertical one. And by overlaying them on their centers we build the cross:"
   ]
  },
  {
   "cell_type": "code",
   "execution_count": null,
   "id": "447ca2b0",
   "metadata": {},
   "outputs": [],
   "source": [
    "from pytamaro import overlay, rotate, white\n",
    "\n",
    "horizontal_arm = rectangle(200, 60, white)\n",
    "vertical_arm = rotate(90, horizontal_arm)\n",
    "cross = overlay(horizontal_arm, vertical_arm)"
   ]
  },
  {
   "cell_type": "markdown",
   "id": "fedfecf3",
   "metadata": {},
   "source": [
    "Finally, we can compose together the cross and the red field keeping the former in the foreground:"
   ]
  },
  {
   "cell_type": "code",
   "execution_count": null,
   "id": "af777ce5",
   "metadata": {},
   "outputs": [],
   "source": [
    "flag = overlay(cross, background)"
   ]
  },
  {
   "cell_type": "markdown",
   "id": "9bb2a41a",
   "metadata": {},
   "source": [
    "And... we are ready to show the flag!"
   ]
  },
  {
   "cell_type": "code",
   "execution_count": null,
   "id": "bad92175",
   "metadata": {},
   "outputs": [],
   "source": [
    "from pytamaro import show_graphic\n",
    "\n",
    "show_graphic(flag)"
   ]
  }
 ],
 "metadata": {
  "kernelspec": {
   "display_name": "Python 3 (ipykernel)",
   "language": "python",
   "name": "python3"
  },
  "language_info": {
   "codemirror_mode": {
    "name": "ipython",
    "version": 3
   },
   "file_extension": ".py",
   "mimetype": "text/x-python",
   "name": "python",
   "nbconvert_exporter": "python",
   "pygments_lexer": "ipython3",
   "version": "3.8.10"
  }
 },
 "nbformat": 4,
 "nbformat_minor": 5
}
